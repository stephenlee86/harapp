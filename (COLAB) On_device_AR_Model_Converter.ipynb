{
 "cells": [
  {
   "cell_type": "code",
   "execution_count": null,
   "metadata": {
    "id": "LmaI759C6Ktg"
   },
   "outputs": [],
   "source": [
    "!pip install tensorflow-gpu==2.0.0rc0\n",
    "!pip install Pillow==6.2.0\n",
    "!pip install scipy==1.3.0"
   ]
  },
  {
   "cell_type": "code",
   "execution_count": null,
   "metadata": {
    "colab": {
     "base_uri": "https://localhost:8080/"
    },
    "id": "YI-HS6zp26as",
    "outputId": "47d9356f-c2d3-46e3-aaba-d132e253e8da"
   },
   "outputs": [],
   "source": [
    "from google.colab import drive\n",
    "drive.mount('/content/gdrive')\n",
    "\n",
    "import numpy as np\n",
    "import tensorflow as tf\n",
    "print(tf.__version__)\n",
    "from tensorflow.keras.models import Model, Sequential\n",
    "from tensorflow.keras.optimizers import Adam\n",
    "from tensorflow.keras.regularizers import l2\n",
    "from tensorflow.keras.models import load_model, save_model\n",
    "from tensorflow.keras.layers import Input, Conv2D, Flatten, Dense, MaxPool2D, Reshape\n",
    "from tensorflow.keras.layers import LSTM"
   ]
  },
  {
   "cell_type": "code",
   "execution_count": null,
   "metadata": {
    "id": "J74MP16t4gYu"
   },
   "outputs": [],
   "source": [
    "segments = np.load(\"<segments_file_name>.npy\")\n",
    "labels = np.load(\"<labels_file_name>.npy\")"
   ]
  },
  {
   "cell_type": "code",
   "execution_count": null,
   "metadata": {
    "id": "_teJQ4xB7Owa"
   },
   "outputs": [],
   "source": [
    "tf.keras.backend.clear_session()\n",
    "\n",
    "input = Input(shape=(2400,))\n",
    "reshape_input = Reshape((1, 400, 6))(input)\n",
    "\n",
    "x = Conv2D(32, kernel_size = (1, 24), \n",
    "        strides = (1, 1),  \n",
    "        activation = \"relu\", \n",
    "        padding = \"valid\", \n",
    "        kernel_regularizer = l2(1e-4))(reshape_input)\n",
    "x = MaxPool2D((1, 4), (1, 2))(x)\n",
    "\n",
    "x = Conv2D(64, kernel_size = (1, 16), \n",
    "        strides = (1, 1), \n",
    "        activation = \"relu\", \n",
    "        padding = \"valid\", \n",
    "        kernel_regularizer = l2(1e-4))(x)\n",
    "x = MaxPool2D((1, 4), (1, 2))(x)\n",
    "\n",
    "x = Conv2D(96, kernel_size = (1, 8), \n",
    "        strides = (1, 1), \n",
    "        activation = \"relu\", \n",
    "        padding = \"valid\", \n",
    "        kernel_regularizer = l2(1e-4))(x)\n",
    "x = MaxPool2D((1, 4), (1, 2))(x)\n",
    "\n",
    "x = Conv2D(128, kernel_size = (1, 4), \n",
    "        strides = (1, 1), \n",
    "        activation = \"relu\", \n",
    "        padding = \"valid\", \n",
    "        kernel_regularizer = l2(1e-4),\n",
    "        name=\"encoder\")(x)        \n",
    "x = Flatten()(x)\n",
    "output = Dense(6, activation = \"softmax\")(x)\n",
    "\n",
    "model = Model(input, output)\n",
    "model.compile(optimizer = Adam(3e-4), \n",
    "              loss = \"categorical_crossentropy\",\n",
    "              metrics = [\"categorical_accuracy\"])"
   ]
  },
  {
   "cell_type": "code",
   "execution_count": null,
   "metadata": {
    "id": "G89Qn8kfOwS3"
   },
   "outputs": [],
   "source": [
    "segments_reshaped = segments.reshape(-1, 2400)\n",
    "model.fit(segments, labels, epochs = 1, \n",
    "          batch_size = 32, verbose = 2)"
   ]
  },
  {
   "cell_type": "code",
   "execution_count": null,
   "metadata": {
    "id": "xvD35HHQFMKq"
   },
   "outputs": [],
   "source": [
    "!rm -R par_model\n",
    "!mkdir par_model\n",
    "\n",
    "model = Model(model.input, model.get_layer(\"encoder\").output)\n",
    "tf.keras.models.save_model(model, \"par_model\", \n",
    "                           include_optimizer = False, \n",
    "                           save_format=\"tf\")"
   ]
  },
  {
   "cell_type": "markdown",
   "metadata": {
    "id": "9s24zfUlIuiO"
   },
   "source": [
    "------------------"
   ]
  },
  {
   "cell_type": "code",
   "execution_count": null,
   "metadata": {
    "id": "vNvyMABWFs_z"
   },
   "outputs": [],
   "source": [
    "from tfltransfer import bases\n",
    "from tfltransfer import heads\n",
    "from tfltransfer import optimizers\n",
    "from tfltransfer.tflite_transfer_converter import TFLiteTransferConverter"
   ]
  },
  {
   "cell_type": "code",
   "execution_count": null,
   "metadata": {
    "id": "mCj-k_y4FNOF"
   },
   "outputs": [],
   "source": [
    "base = bases.SavedModelBase(\"par_model\")\n",
    "\n",
    "head = Sequential([\n",
    "    # Flatten(input_shape=(1, 35, 128)),\n",
    "    Dense(units=128,\n",
    "        activation='relu',\n",
    "        kernel_regularizer=l2(0.0001),\n",
    "        input_shape=(256,)),\n",
    "    Dense(units=2,\n",
    "        activation='softmax',\n",
    "        kernel_regularizer=l2(0.0001)),\n",
    "])\n",
    "\n",
    "# Optimizer is ignored by the converter! See docs.\n",
    "head.compile(loss='categorical_crossentropy', optimizer='adam')"
   ]
  },
  {
   "cell_type": "code",
   "execution_count": null,
   "metadata": {
    "id": "KavdBsHQG8M8"
   },
   "outputs": [],
   "source": [
    "!rm -R tflite_par_model\n",
    "!mkdir tflite_par_model\n",
    "\n",
    "converter = TFLiteTransferConverter(2,\n",
    "              base,\n",
    "              heads.KerasModelHead(head),\n",
    "              optimizers.SGD(0.001),\n",
    "              train_batch_size=5)\n",
    "\n",
    "converter.convert_and_save('tflite_par_model')"
   ]
  },
  {
   "cell_type": "markdown",
   "metadata": {
    "id": "2xi3s0iAsnw2"
   },
   "source": [
    "--------------------"
   ]
  }
 ],
 "metadata": {
  "accelerator": "GPU",
  "colab": {
   "collapsed_sections": [],
   "name": "PAR.ipynb",
   "provenance": []
  },
  "kernelspec": {
   "display_name": "Python 3",
   "language": "python",
   "name": "python3"
  },
  "language_info": {
   "codemirror_mode": {
    "name": "ipython",
    "version": 3
   },
   "file_extension": ".py",
   "mimetype": "text/x-python",
   "name": "python",
   "nbconvert_exporter": "python",
   "pygments_lexer": "ipython3",
   "version": "3.7.6"
  }
 },
 "nbformat": 4,
 "nbformat_minor": 1
}
